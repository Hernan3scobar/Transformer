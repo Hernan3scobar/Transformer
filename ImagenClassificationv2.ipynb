{
 "cells": [
  {
   "cell_type": "code",
   "execution_count": 1,
   "metadata": {},
   "outputs": [],
   "source": [
    "##source: https://medium.com/@yanis.labrak/how-to-train-a-custom-vision-transformer-vit-image-classifier-to-help-endoscopists-in-under-5-min-2e7e4110a353\n",
    "#%%\n",
    "#%% Packages\n",
    "from hugsvision.dataio.VisionDataset import VisionDataset\n",
    "\n",
    "from hugsvision.nnet.VisionClassifierTrainer import VisionClassifierTrainer\n",
    "from transformers import ViTFeatureExtractor, ViTForImageClassification\n",
    "from hugsvision.inference.VisionClassifierInference import VisionClassifierInference\n",
    "from torchvision import datasets, transforms\n",
    "\n",
    "\n",
    "import pandas as pd\n",
    "import seaborn as sns\n",
    "import matplotlib.pyplot as plt\n",
    "from sklearn.metrics import confusion_matrix"
   ]
  },
  {
   "cell_type": "code",
   "execution_count": 2,
   "metadata": {},
   "outputs": [],
   "source": [
    "import matplotlib.pyplot as plt\n",
    "%matplotlib inline\n"
   ]
  },
  {
   "cell_type": "code",
   "execution_count": 3,
   "metadata": {},
   "outputs": [],
   "source": [
    "import torch\n",
    "\n",
    "device = torch.device(\"cuda\" if torch.cuda.is_available() else \"cpu\")\n"
   ]
  },
  {
   "cell_type": "code",
   "execution_count": 4,
   "metadata": {},
   "outputs": [
    {
     "data": {
      "text/plain": [
       "device(type='cuda')"
      ]
     },
     "execution_count": 4,
     "metadata": {},
     "output_type": "execute_result"
    }
   ],
   "source": [
    "device"
   ]
  },
  {
   "cell_type": "code",
   "execution_count": 40,
   "metadata": {},
   "outputs": [],
   "source": [
    "import os\n",
    "import shutil\n",
    "from sklearn.model_selection import train_test_split\n",
    "\n",
    "main_dir = \"./data\"      \n",
    "output_dir = \"./datasplit\" \n",
    "test_size = 0.1                      \n",
    "\n",
    "for subfolder in os.listdir(main_dir):\n",
    "    subfolder_path = os.path.join(main_dir, subfolder)\n",
    "    \n",
    "    if os.path.isdir(subfolder_path):\n",
    "        images = os.listdir(subfolder_path)\n",
    "        \n",
    "        train_images, test_images = train_test_split(images, test_size=test_size, random_state=42)\n",
    "        \n",
    "        # Create output subfolders for train and test sets\n",
    "        train_output_subfolder = os.path.join(output_dir, \"train\", subfolder)\n",
    "        test_output_subfolder = os.path.join(output_dir, \"test\", subfolder)\n",
    "        os.makedirs(train_output_subfolder, exist_ok=True)\n",
    "        os.makedirs(test_output_subfolder, exist_ok=True)\n",
    "        \n",
    "        # Copy images to the respective directories\n",
    "        for image in train_images:\n",
    "            shutil.copy(os.path.join(subfolder_path, image), train_output_subfolder)\n",
    "        for image in test_images:\n",
    "            shutil.copy(os.path.join(subfolder_path, image), test_output_subfolder)\n",
    "\n"
   ]
  },
  {
   "cell_type": "code",
   "execution_count": 3,
   "metadata": {},
   "outputs": [],
   "source": [
    "# my goals is to train a model classifier via transofmer (ViT) by follow the example in the source,"
   ]
  },
  {
   "cell_type": "code",
   "execution_count": 9,
   "metadata": {},
   "outputs": [
    {
     "name": "stdout",
     "output_type": "stream",
     "text": [
      "Split Datasets...\n",
      "Balance train dataset...\n",
      "The less represented label in train as 4500 occurrences\n",
      "Size of train after balancing is 22500\n",
      "Training Dataset Elements:  20250\n",
      "+---------+-----------+---------+----------+--------+----------+-------+\n",
      "| Dataset | colon_aca | colon_n | lung_aca | lung_n | lung_scc | Total |\n",
      "+---------+-----------+---------+----------+--------+----------+-------+\n",
      "|  Train  |   4054    |  4050   |   4025   |  4056  |   4065   | 20250 |\n",
      "|  Test   |    446    |   450   |   475    |  444   |   435    | 2250  |\n",
      "+---------+-----------+---------+----------+--------+----------+-------+\n"
     ]
    }
   ],
   "source": [
    "train, test, id2label, label2id = VisionDataset.fromImageFolder(\n",
    "    \"./datasplit/train\",\n",
    "    test_ratio=0.1,\n",
    "    balanced = True,\n",
    "    augmentation=False,\n",
    "    torch_vision=False,      \n",
    ")\n"
   ]
  },
  {
   "cell_type": "code",
   "execution_count": 10,
   "metadata": {},
   "outputs": [],
   "source": [
    "# Use ViTImageProcessor instead of ViTFeatureExtractor\n",
    "from transformers import ViTImageProcessor\n"
   ]
  },
  {
   "cell_type": "code",
   "execution_count": 11,
   "metadata": {},
   "outputs": [
    {
     "name": "stderr",
     "output_type": "stream",
     "text": [
      "Some weights of ViTForImageClassification were not initialized from the model checkpoint at google/vit-base-patch16-224-in21k and are newly initialized: ['classifier.bias', 'classifier.weight']\n",
      "You should probably TRAIN this model on a down-stream task to be able to use it for predictions and inference.\n"
     ]
    }
   ],
   "source": [
    "huggingface_model = 'google/vit-base-patch16-224-in21k'\n",
    "\n",
    "# Initialize the model and move it to GPU\n",
    "model = ViTForImageClassification.from_pretrained(\n",
    "    huggingface_model,\n",
    "    num_labels = len(label2id),\n",
    "    label2id   = label2id,\n",
    "    id2label   = id2label\n",
    ").to(device)  # Move model to GPU\n",
    "\n",
    "# Initialize the feature extractor\n",
    "feature_extractor = ViTImageProcessor.from_pretrained(\n",
    "        huggingface_model,)"
   ]
  },
  {
   "cell_type": "code",
   "execution_count": null,
   "metadata": {},
   "outputs": [],
   "source": [
    "\n",
    "trainer = VisionClassifierTrainer(\n",
    "\tmodel_name   = \"ColonLungClassifier\",\n",
    "\ttrain        = train,\n",
    "\ttest         = test,\n",
    "\toutput_dir   = \"./out/\",\n",
    "\tmax_epochs   = 20,\n",
    "\tbatch_size   = 16, \n",
    "\tlr\t     = 2e-5,\n",
    "\tfp16\t     = True,\n",
    "\tmodel = model,\n",
    "\tfeature_extractor = feature_extractor,\n",
    ")"
   ]
  },
  {
   "cell_type": "code",
   "execution_count": 24,
   "metadata": {},
   "outputs": [
    {
     "name": "stderr",
     "output_type": "stream",
     "text": [
      "100%|██████████| 2500/2500 [01:00<00:00, 41.55it/s]"
     ]
    },
    {
     "name": "stdout",
     "output_type": "stream",
     "text": [
      "              precision    recall  f1-score   support\n",
      "\n",
      "   colon_aca     1.0000    1.0000    1.0000       486\n",
      "     colon_n     1.0000    1.0000    1.0000       514\n",
      "    lung_aca     1.0000    1.0000    1.0000       504\n",
      "      lung_n     1.0000    1.0000    1.0000       515\n",
      "    lung_scc     1.0000    1.0000    1.0000       481\n",
      "\n",
      "    accuracy                         1.0000      2500\n",
      "   macro avg     1.0000    1.0000    1.0000      2500\n",
      "weighted avg     1.0000    1.0000    1.0000      2500\n",
      "\n",
      "Logs saved at: \u001b[93m./out/COLONLUNGCLASSIFIER/20_2024-08-23-14-45-12\u001b[0m\n"
     ]
    },
    {
     "name": "stderr",
     "output_type": "stream",
     "text": [
      "\n"
     ]
    }
   ],
   "source": [
    "y_true, y_pred = trainer.evaluate_f1_score()\n"
   ]
  },
  {
   "cell_type": "code",
   "execution_count": 36,
   "metadata": {},
   "outputs": [
    {
     "data": {
      "text/plain": [
       "dict_keys(['colon_aca', 'colon_n', 'lung_aca', 'lung_n', 'lung_scc'])"
      ]
     },
     "execution_count": 36,
     "metadata": {},
     "output_type": "execute_result"
    }
   ],
   "source": [
    "label2id.keys()"
   ]
  },
  {
   "cell_type": "code",
   "execution_count": 25,
   "metadata": {},
   "outputs": [
    {
     "data": {
      "text/html": [
       "<div>\n",
       "<style scoped>\n",
       "    .dataframe tbody tr th:only-of-type {\n",
       "        vertical-align: middle;\n",
       "    }\n",
       "\n",
       "    .dataframe tbody tr th {\n",
       "        vertical-align: top;\n",
       "    }\n",
       "\n",
       "    .dataframe thead th {\n",
       "        text-align: right;\n",
       "    }\n",
       "</style>\n",
       "<table border=\"1\" class=\"dataframe\">\n",
       "  <thead>\n",
       "    <tr style=\"text-align: right;\">\n",
       "      <th></th>\n",
       "      <th>colon_aca</th>\n",
       "      <th>colon_n</th>\n",
       "      <th>lung_aca</th>\n",
       "      <th>lung_n</th>\n",
       "      <th>lung_scc</th>\n",
       "    </tr>\n",
       "  </thead>\n",
       "  <tbody>\n",
       "    <tr>\n",
       "      <th>colon_aca</th>\n",
       "      <td>486</td>\n",
       "      <td>0</td>\n",
       "      <td>0</td>\n",
       "      <td>0</td>\n",
       "      <td>0</td>\n",
       "    </tr>\n",
       "    <tr>\n",
       "      <th>colon_n</th>\n",
       "      <td>0</td>\n",
       "      <td>514</td>\n",
       "      <td>0</td>\n",
       "      <td>0</td>\n",
       "      <td>0</td>\n",
       "    </tr>\n",
       "    <tr>\n",
       "      <th>lung_aca</th>\n",
       "      <td>0</td>\n",
       "      <td>0</td>\n",
       "      <td>504</td>\n",
       "      <td>0</td>\n",
       "      <td>0</td>\n",
       "    </tr>\n",
       "    <tr>\n",
       "      <th>lung_n</th>\n",
       "      <td>0</td>\n",
       "      <td>0</td>\n",
       "      <td>0</td>\n",
       "      <td>515</td>\n",
       "      <td>0</td>\n",
       "    </tr>\n",
       "    <tr>\n",
       "      <th>lung_scc</th>\n",
       "      <td>0</td>\n",
       "      <td>0</td>\n",
       "      <td>0</td>\n",
       "      <td>0</td>\n",
       "      <td>481</td>\n",
       "    </tr>\n",
       "  </tbody>\n",
       "</table>\n",
       "</div>"
      ],
      "text/plain": [
       "           colon_aca  colon_n  lung_aca  lung_n  lung_scc\n",
       "colon_aca        486        0         0       0         0\n",
       "colon_n            0      514         0       0         0\n",
       "lung_aca           0        0       504       0         0\n",
       "lung_n             0        0         0     515         0\n",
       "lung_scc           0        0         0       0       481"
      ]
     },
     "execution_count": 25,
     "metadata": {},
     "output_type": "execute_result"
    }
   ],
   "source": [
    "cm = confusion_matrix(y_true, y_pred)\n",
    "labels = list(label2id.keys())\n",
    "df_cm = pd.DataFrame(cm, index = labels, columns = labels)\n",
    "df_cm"
   ]
  },
  {
   "cell_type": "code",
   "execution_count": 35,
   "metadata": {},
   "outputs": [
    {
     "data": {
      "text/plain": [
       "<Axes: >"
      ]
     },
     "execution_count": 35,
     "metadata": {},
     "output_type": "execute_result"
    },
    {
     "data": {
      "image/png": "[encoded data removed]",
      "text/plain": [
       "<Figure size 1000x700 with 2 Axes>"
      ]
     },
     "metadata": {},
     "output_type": "display_data"
    }
   ],
   "source": [
    "plt.figure(figsize = (10,7))\n",
    "sns.heatmap(df_cm, annot=True, annot_kws={\"size\": 8}, fmt=\"\")\n",
    "#plt.savefig(\"./conf_matrix_1.jpg\")\n"
   ]
  },
  {
   "cell_type": "code",
   "execution_count": 30,
   "metadata": {},
   "outputs": [
    {
     "name": "stderr",
     "output_type": "stream",
     "text": [
      "/home/hernan/.local/lib/python3.10/site-packages/transformers/models/vit/feature_extraction_vit.py:28: FutureWarning: The class ViTFeatureExtractor is deprecated and will be removed in version 5 of Transformers. Please use ViTImageProcessor instead.\n",
      "  warnings.warn(\n"
     ]
    },
    {
     "name": "stdout",
     "output_type": "stream",
     "text": [
      "Model loaded!\n",
      "Predicted class: lung_aca\n"
     ]
    }
   ],
   "source": [
    "import os.path\n",
    "path = \"./out/COLONLUNGCLASSIFIER/20_2024-08-23-14-45-12/model\"\n",
    "img  = \"./datasplit/test/lung_aca/lungaca5.jpeg\"\n",
    "\n",
    "classifier = VisionClassifierInference(\n",
    "    feature_extractor = ViTFeatureExtractor.from_pretrained(path),\n",
    "    model = ViTForImageClassification.from_pretrained(path),\n",
    ")\n",
    "\n",
    "label = classifier.predict(img_path=img)\n",
    "print(\"Predicted class:\", label)"
   ]
  },
  {
   "cell_type": "code",
   "execution_count": null,
   "metadata": {},
   "outputs": [],
   "source": [
    "# %% Test dataset\n",
    "test, _, id2label, label2id = VisionDataset.fromImageFolder(\n",
    "    \"./datasplit/test/\",\n",
    "    test_ratio   = 0,\n",
    "    balanced     = True,\n",
    "    augmentation = True, \n",
    "    torch_vision = False\n",
    ")\n",
    "\n",
    "classifier.predict(img)"
   ]
  },
  {
   "cell_type": "code",
   "execution_count": null,
   "metadata": {},
   "outputs": [],
   "source": [
    "import glob\n",
    "test_files = [f for f in glob.glob(\"./test/**/**\", recursive=True) if os.path.isfile(f)]\n",
    "# %%\n",
    "for i in range(len(test_files)):\n",
    "\tprint(f\"{test_files[i]}\")\n",
    "\tprint(f\"predicted: {classifier.predict(test_files[i])}\")\n",
    "# %%\n"
   ]
  }
 ],
 "metadata": {
  "kernelspec": {
   "display_name": "Python 3",
   "language": "python",
   "name": "python3"
  },
  "language_info": {
   "codemirror_mode": {
    "name": "ipython",
    "version": 3
   },
   "file_extension": ".py",
   "mimetype": "text/x-python",
   "name": "python",
   "nbconvert_exporter": "python",
   "pygments_lexer": "ipython3",
   "version": "3.10.12"
  }
 },
 "nbformat": 4,
 "nbformat_minor": 2
}
